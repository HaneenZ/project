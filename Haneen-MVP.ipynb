{
 "cells": [
  {
   "cell_type": "code",
   "execution_count": 1,
   "id": "e42e2bfc",
   "metadata": {},
   "outputs": [],
   "source": [
    "import pandas as pd"
   ]
  },
  {
   "cell_type": "code",
   "execution_count": 2,
   "id": "80a6e6bf",
   "metadata": {},
   "outputs": [],
   "source": [
    "df = pd.read_excel (r'C:\\Users\\s4320\\OneDrive\\Desktop\\alldata.xlsx')"
   ]
  },
  {
   "cell_type": "code",
   "execution_count": 3,
   "id": "01886ef9",
   "metadata": {
    "scrolled": false
   },
   "outputs": [
    {
     "name": "stdout",
     "output_type": "stream",
     "text": [
      "            Image Name     size   Energy  Contrast  Homogeneity  Correlation  \\\n",
      "0         00000000.JPG   8839.0  0.11872  0.120820      0.94235      0.98761   \n",
      "1     00000000_(2).JPG  10189.0  0.12359  0.326530      0.91042      0.96267   \n",
      "2     00000000_(3).JPG   8406.0  0.11269  0.415170      0.88805      0.93404   \n",
      "3     00000000_(4).JPG   6397.0  0.13714  0.242500      0.88940      0.96415   \n",
      "4     00000000_(5).JPG   5612.0  0.13951  0.361960      0.92156      0.94602   \n",
      "...                ...      ...      ...       ...          ...          ...   \n",
      "5154     36-stego2.jpg      NaN  0.73955  0.004286      0.99786      0.99181   \n",
      "5155     37-stego2.jpg      NaN  0.37489  0.018468      0.99077      0.98346   \n",
      "5156     38-stego2.jpg      NaN  0.40228  0.023125      0.98844      0.98155   \n",
      "5157     39-stego2.jpg      NaN  0.72482  0.008184      0.99591      0.97475   \n",
      "5158     40-stego2.jpg      NaN  0.73972  0.003600      0.99820      0.99311   \n",
      "\n",
      "     format catogary  \n",
      "0       JPG    clean  \n",
      "1       JPG    clean  \n",
      "2       JPG    clean  \n",
      "3       JPG    clean  \n",
      "4       JPG    clean  \n",
      "...     ...      ...  \n",
      "5154    JPG    stego  \n",
      "5155    JPG    stego  \n",
      "5156    JPG    stego  \n",
      "5157    JPG    stego  \n",
      "5158    JPG    stego  \n",
      "\n",
      "[5159 rows x 8 columns]\n"
     ]
    }
   ],
   "source": [
    "print (df)"
   ]
  },
  {
   "cell_type": "code",
   "execution_count": 4,
   "id": "c042b51d",
   "metadata": {},
   "outputs": [
    {
     "data": {
      "text/plain": [
       "<bound method DataFrame.info of             Image Name     size   Energy  Contrast  Homogeneity  Correlation  \\\n",
       "0         00000000.JPG   8839.0  0.11872  0.120820      0.94235      0.98761   \n",
       "1     00000000_(2).JPG  10189.0  0.12359  0.326530      0.91042      0.96267   \n",
       "2     00000000_(3).JPG   8406.0  0.11269  0.415170      0.88805      0.93404   \n",
       "3     00000000_(4).JPG   6397.0  0.13714  0.242500      0.88940      0.96415   \n",
       "4     00000000_(5).JPG   5612.0  0.13951  0.361960      0.92156      0.94602   \n",
       "...                ...      ...      ...       ...          ...          ...   \n",
       "5154     36-stego2.jpg      NaN  0.73955  0.004286      0.99786      0.99181   \n",
       "5155     37-stego2.jpg      NaN  0.37489  0.018468      0.99077      0.98346   \n",
       "5156     38-stego2.jpg      NaN  0.40228  0.023125      0.98844      0.98155   \n",
       "5157     39-stego2.jpg      NaN  0.72482  0.008184      0.99591      0.97475   \n",
       "5158     40-stego2.jpg      NaN  0.73972  0.003600      0.99820      0.99311   \n",
       "\n",
       "     format catogary  \n",
       "0       JPG    clean  \n",
       "1       JPG    clean  \n",
       "2       JPG    clean  \n",
       "3       JPG    clean  \n",
       "4       JPG    clean  \n",
       "...     ...      ...  \n",
       "5154    JPG    stego  \n",
       "5155    JPG    stego  \n",
       "5156    JPG    stego  \n",
       "5157    JPG    stego  \n",
       "5158    JPG    stego  \n",
       "\n",
       "[5159 rows x 8 columns]>"
      ]
     },
     "execution_count": 4,
     "metadata": {},
     "output_type": "execute_result"
    }
   ],
   "source": [
    "df.info"
   ]
  },
  {
   "cell_type": "code",
   "execution_count": 5,
   "id": "3535955b",
   "metadata": {
    "scrolled": true
   },
   "outputs": [
    {
     "data": {
      "text/html": [
       "<div>\n",
       "<style scoped>\n",
       "    .dataframe tbody tr th:only-of-type {\n",
       "        vertical-align: middle;\n",
       "    }\n",
       "\n",
       "    .dataframe tbody tr th {\n",
       "        vertical-align: top;\n",
       "    }\n",
       "\n",
       "    .dataframe thead th {\n",
       "        text-align: right;\n",
       "    }\n",
       "</style>\n",
       "<table border=\"1\" class=\"dataframe\">\n",
       "  <thead>\n",
       "    <tr style=\"text-align: right;\">\n",
       "      <th></th>\n",
       "      <th>Image Name</th>\n",
       "      <th>size</th>\n",
       "      <th>Energy</th>\n",
       "      <th>Contrast</th>\n",
       "      <th>Homogeneity</th>\n",
       "      <th>Correlation</th>\n",
       "      <th>format</th>\n",
       "      <th>catogary</th>\n",
       "    </tr>\n",
       "  </thead>\n",
       "  <tbody>\n",
       "    <tr>\n",
       "      <th>0</th>\n",
       "      <td>00000000.JPG</td>\n",
       "      <td>8839.0</td>\n",
       "      <td>0.11872</td>\n",
       "      <td>0.12082</td>\n",
       "      <td>0.94235</td>\n",
       "      <td>0.98761</td>\n",
       "      <td>JPG</td>\n",
       "      <td>clean</td>\n",
       "    </tr>\n",
       "    <tr>\n",
       "      <th>1</th>\n",
       "      <td>00000000_(2).JPG</td>\n",
       "      <td>10189.0</td>\n",
       "      <td>0.12359</td>\n",
       "      <td>0.32653</td>\n",
       "      <td>0.91042</td>\n",
       "      <td>0.96267</td>\n",
       "      <td>JPG</td>\n",
       "      <td>clean</td>\n",
       "    </tr>\n",
       "    <tr>\n",
       "      <th>2</th>\n",
       "      <td>00000000_(3).JPG</td>\n",
       "      <td>8406.0</td>\n",
       "      <td>0.11269</td>\n",
       "      <td>0.41517</td>\n",
       "      <td>0.88805</td>\n",
       "      <td>0.93404</td>\n",
       "      <td>JPG</td>\n",
       "      <td>clean</td>\n",
       "    </tr>\n",
       "    <tr>\n",
       "      <th>3</th>\n",
       "      <td>00000000_(4).JPG</td>\n",
       "      <td>6397.0</td>\n",
       "      <td>0.13714</td>\n",
       "      <td>0.24250</td>\n",
       "      <td>0.88940</td>\n",
       "      <td>0.96415</td>\n",
       "      <td>JPG</td>\n",
       "      <td>clean</td>\n",
       "    </tr>\n",
       "    <tr>\n",
       "      <th>4</th>\n",
       "      <td>00000000_(5).JPG</td>\n",
       "      <td>5612.0</td>\n",
       "      <td>0.13951</td>\n",
       "      <td>0.36196</td>\n",
       "      <td>0.92156</td>\n",
       "      <td>0.94602</td>\n",
       "      <td>JPG</td>\n",
       "      <td>clean</td>\n",
       "    </tr>\n",
       "  </tbody>\n",
       "</table>\n",
       "</div>"
      ],
      "text/plain": [
       "         Image Name     size   Energy  Contrast  Homogeneity  Correlation  \\\n",
       "0      00000000.JPG   8839.0  0.11872   0.12082      0.94235      0.98761   \n",
       "1  00000000_(2).JPG  10189.0  0.12359   0.32653      0.91042      0.96267   \n",
       "2  00000000_(3).JPG   8406.0  0.11269   0.41517      0.88805      0.93404   \n",
       "3  00000000_(4).JPG   6397.0  0.13714   0.24250      0.88940      0.96415   \n",
       "4  00000000_(5).JPG   5612.0  0.13951   0.36196      0.92156      0.94602   \n",
       "\n",
       "  format catogary  \n",
       "0    JPG    clean  \n",
       "1    JPG    clean  \n",
       "2    JPG    clean  \n",
       "3    JPG    clean  \n",
       "4    JPG    clean  "
      ]
     },
     "execution_count": 5,
     "metadata": {},
     "output_type": "execute_result"
    }
   ],
   "source": [
    "%matplotlib inline\n",
    "import pandas as pd\n",
    "import matplotlib.pyplot as plt\n",
    "images = df\n",
    "images.head()"
   ]
  },
  {
   "cell_type": "code",
   "execution_count": 6,
   "id": "37752034",
   "metadata": {},
   "outputs": [
    {
     "name": "stdout",
     "output_type": "stream",
     "text": [
      "(5159, 8)\n"
     ]
    }
   ],
   "source": [
    "print(images.shape)\n"
   ]
  },
  {
   "cell_type": "code",
   "execution_count": 7,
   "id": "d43e9fc1",
   "metadata": {},
   "outputs": [
    {
     "name": "stdout",
     "output_type": "stream",
     "text": [
      "['clean' 'stego']\n"
     ]
    }
   ],
   "source": [
    "print(images['catogary'].unique())\n"
   ]
  },
  {
   "cell_type": "code",
   "execution_count": 8,
   "id": "69d67414",
   "metadata": {},
   "outputs": [
    {
     "name": "stdout",
     "output_type": "stream",
     "text": [
      "['JPG' 'BMP' 'TIFF']\n"
     ]
    }
   ],
   "source": [
    "print(images['format'].unique())\n"
   ]
  },
  {
   "cell_type": "code",
   "execution_count": 10,
   "id": "0934f279",
   "metadata": {},
   "outputs": [
    {
     "name": "stdout",
     "output_type": "stream",
     "text": [
      "catogary\n",
      "clean    1099\n",
      "stego    4060\n",
      "dtype: int64\n"
     ]
    }
   ],
   "source": [
    "print(images.groupby('catogary').size())\n"
   ]
  },
  {
   "cell_type": "code",
   "execution_count": 27,
   "id": "19ef00b8",
   "metadata": {},
   "outputs": [
    {
     "name": "stdout",
     "output_type": "stream",
     "text": [
      "catogary  format\n",
      "clean     BMP        378\n",
      "          JPG        721\n",
      "stego     JPG        344\n",
      "          TIFF      3628\n",
      "dtype: int64\n"
     ]
    }
   ],
   "source": [
    "\n",
    "data_list=images.groupby(['catogary','format']).size()\n",
    "print(data_list)\n"
   ]
  },
  {
   "cell_type": "code",
   "execution_count": 33,
   "id": "4435cfd1",
   "metadata": {},
   "outputs": [
    {
     "name": "stderr",
     "output_type": "stream",
     "text": [
      "C:\\Users\\s4320\\anaconda3\\lib\\site-packages\\seaborn\\_decorators.py:36: FutureWarning: Pass the following variable as a keyword arg: x. From version 0.12, the only valid positional argument will be `data`, and passing other arguments without an explicit keyword will result in an error or misinterpretation.\n",
      "  warnings.warn(\n"
     ]
    },
    {
     "data": {
      "image/png": "[encoded data removed]",
      "text/plain": [
       "<Figure size 432x288 with 1 Axes>"
      ]
     },
     "metadata": {
      "needs_background": "light"
     },
     "output_type": "display_data"
    }
   ],
   "source": [
    "import seaborn as sns\n",
    "sns.countplot(images['catogary'],label=\"Count\")\n",
    "plt.show()"
   ]
  },
  {
   "cell_type": "code",
   "execution_count": 12,
   "id": "512f9ff3",
   "metadata": {},
   "outputs": [],
   "source": [
    "import pylab as pl\n",
    "from pandas.plotting import scatter_matrix\n",
    "from matplotlib import cm\n"
   ]
  },
  {
   "cell_type": "code",
   "execution_count": 13,
   "id": "48656f99",
   "metadata": {},
   "outputs": [],
   "source": [
    "images.isna().sum\n",
    "images.dropna(inplace= True)"
   ]
  },
  {
   "cell_type": "code",
   "execution_count": 14,
   "id": "2f4f0f4b",
   "metadata": {},
   "outputs": [],
   "source": [
    "images.dropna(inplace= True)"
   ]
  },
  {
   "cell_type": "code",
   "execution_count": 15,
   "id": "e9a4f552",
   "metadata": {},
   "outputs": [
    {
     "data": {
      "text/plain": [
       "(5071, 8)"
      ]
     },
     "execution_count": 15,
     "metadata": {},
     "output_type": "execute_result"
    }
   ],
   "source": [
    "images.shape"
   ]
  },
  {
   "cell_type": "code",
   "execution_count": 16,
   "id": "7776fc6d",
   "metadata": {},
   "outputs": [],
   "source": [
    "import numpy as np\n",
    "\n",
    "from sklearn.model_selection import train_test_split\n",
    "images_names = ['Energy', 'Contrast', 'Homogeneity','Correlation']\n",
    "X = images[images_names]\n",
    "y = images['catogary']\n",
    "#X = X.values.astype(np.float128)\n",
    "from numpy import inf\n",
    "images[images_names == inf] = np.finfo(np.float64).max\n",
    "\n",
    "X_train, X_test, y_train, y_test = train_test_split(X, y, random_state=0)\n",
    "from sklearn.preprocessing import MinMaxScaler\n",
    "scaler = MinMaxScaler()\n",
    "X_train = scaler.fit_transform(X_train)\n",
    "X_test = scaler.transform(X_test)\n"
   ]
  },
  {
   "cell_type": "code",
   "execution_count": 17,
   "id": "3df09979",
   "metadata": {},
   "outputs": [
    {
     "name": "stdout",
     "output_type": "stream",
     "text": [
      "Accuracy of K-NN classifier on training set: 87.59\n",
      "Accuracy of K-NN classifier on test set: 82.26\n"
     ]
    }
   ],
   "source": [
    "from sklearn.neighbors import KNeighborsClassifier\n",
    "knn = KNeighborsClassifier()\n",
    "knn.fit(X_train, y_train)\n",
    "print('Accuracy of K-NN classifier on training set: {:.2f}'\n",
    "     .format(knn.score(X_train, y_train)*100))\n",
    "print('Accuracy of K-NN classifier on test set: {:.2f}'\n",
    "     .format(knn.score(X_test, y_test)*100))"
   ]
  },
  {
   "cell_type": "code",
   "execution_count": 18,
   "id": "eb111208",
   "metadata": {},
   "outputs": [
    {
     "name": "stdout",
     "output_type": "stream",
     "text": [
      "Accuracy of Decision Tree classifier on training set: 100.00\n",
      "Accuracy of Decision Tree classifier on test set: 80.13\n"
     ]
    }
   ],
   "source": [
    "from sklearn.tree import DecisionTreeClassifier\n",
    "\n",
    "clf = DecisionTreeClassifier().fit(X_train, y_train)\n",
    "print('Accuracy of Decision Tree classifier on training set: {:.2f}'\n",
    "     .format(clf.score(X_train, y_train)*100))\n",
    "print('Accuracy of Decision Tree classifier on test set: {:.2f}'\n",
    "     .format(clf.score(X_test, y_test)*100))"
   ]
  },
  {
   "cell_type": "code",
   "execution_count": 19,
   "id": "fabe6a58",
   "metadata": {},
   "outputs": [
    {
     "name": "stdout",
     "output_type": "stream",
     "text": [
      "Accuracy of LDA classifier on training set: 82.93\n",
      "Accuracy of LDA classifier on test set: 83.68\n"
     ]
    }
   ],
   "source": [
    "from sklearn.discriminant_analysis import LinearDiscriminantAnalysis\n",
    "lda = LinearDiscriminantAnalysis()\n",
    "lda.fit(X_train, y_train)\n",
    "print('Accuracy of LDA classifier on training set: {:.2f}'\n",
    "     .format(lda.score(X_train, y_train)*100))\n",
    "print('Accuracy of LDA classifier on test set: {:.2f}'\n",
    "     .format(lda.score(X_test, y_test)*100))"
   ]
  },
  {
   "cell_type": "code",
   "execution_count": 20,
   "id": "3f0f09db",
   "metadata": {},
   "outputs": [
    {
     "name": "stdout",
     "output_type": "stream",
     "text": [
      "Accuracy of SVM classifier on training set: 82.30\n",
      "Accuracy of SVM classifier on test set: 82.65\n"
     ]
    }
   ],
   "source": [
    "from sklearn.svm import SVC\n",
    "svm = SVC()\n",
    "svm.fit(X_train, y_train)\n",
    "print('Accuracy of SVM classifier on training set: {:.2f}'\n",
    "     .format(svm.score(X_train, y_train)*100))\n",
    "print('Accuracy of SVM classifier on test set: {:.2f}'\n",
    "     .format(svm.score(X_test, y_test)*100))"
   ]
  },
  {
   "cell_type": "code",
   "execution_count": null,
   "id": "818a02b3",
   "metadata": {},
   "outputs": [],
   "source": []
  }
 ],
 "metadata": {
  "kernelspec": {
   "display_name": "Python 3 (ipykernel)",
   "language": "python",
   "name": "python3"
  },
  "language_info": {
   "codemirror_mode": {
    "name": "ipython",
    "version": 3
   },
   "file_extension": ".py",
   "mimetype": "text/x-python",
   "name": "python",
   "nbconvert_exporter": "python",
   "pygments_lexer": "ipython3",
   "version": "3.9.7"
  }
 },
 "nbformat": 4,
 "nbformat_minor": 5
}
